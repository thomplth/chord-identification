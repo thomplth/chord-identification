{
 "cells": [
  {
   "cell_type": "code",
   "execution_count": 11,
   "id": "9de41566",
   "metadata": {},
   "outputs": [],
   "source": [
    "from music21 import *\n",
    "import pickle"
   ]
  },
  {
   "cell_type": "code",
   "execution_count": null,
   "id": "fc2a884c",
   "metadata": {},
   "outputs": [],
   "source": [
    "input_path = '..\\data\\data_answer\\Twinkle-Twinkle.pydata.pydata'\n",
    "with open(input_path, 'rb') as pickle_file:\n",
    "    answer = pickle.load(pickle_file)\n",
    "    print(\"Answer: \", answer)\n",
    "    evaluation = getEvaluationScore(prediction, answer, file_name=file_name, method=\"beats\")\n",
    "    # print(\"Alignment Score: \", evaluation[0])\n",
    "    # print(\"Aligned Prediction: \", evaluation[1])\n",
    "    # print(\"Aligned Answer: \", evaluation[2])"
   ]
  },
  {
   "cell_type": "code",
   "execution_count": null,
   "id": "f9ba8768",
   "metadata": {},
   "outputs": [],
   "source": []
  }
 ],
 "metadata": {
  "kernelspec": {
   "display_name": "Python 3 (ipykernel)",
   "language": "python",
   "name": "python3"
  },
  "language_info": {
   "codemirror_mode": {
    "name": "ipython",
    "version": 3
   },
   "file_extension": ".py",
   "mimetype": "text/x-python",
   "name": "python",
   "nbconvert_exporter": "python",
   "pygments_lexer": "ipython3",
   "version": "3.8.11"
  }
 },
 "nbformat": 4,
 "nbformat_minor": 5
}
